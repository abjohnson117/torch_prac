{
 "cells": [
  {
   "cell_type": "markdown",
   "metadata": {
    "colab_type": "text",
    "id": "ep2DPT3H32s9"
   },
   "source": [
    "<a href=\"https://colab.research.google.com/github/wingated/cs474_labs_f2019/blob/master/Alternate_Labs/DL_Lab2.ipynb\" target=\"_parent\"><img src=\"https://colab.research.google.com/assets/colab-badge.svg\" alt=\"Open In Colab\"/></a>"
   ]
  },
  {
   "cell_type": "markdown",
   "metadata": {
    "colab_type": "text",
    "id": "view-in-github"
   },
   "source": [
    "# Lab 2: Intro to PyTorch\n",
    "\n",
    "## Deliverable\n",
    "\n",
    "For this lab, you will submit an IPython notebook via Learning Suite.\n",
    "This lab will be mostly boilerplate code, but you will be required to implement a few extras.\n",
    "\n",
    "**NOTE: you almost certainly will not understand most of what's going on in this lab!\n",
    "That's ok - the point is just to get you going with PyTorch.\n",
    "We'll be working on developing a deeper understanding of every part of this code\n",
    "over the course of the next two weeks.**\n",
    "\n",
    "A major goal of this lab is to help you become conversant in working through PyTorch\n",
    "tutorials and documentation.\n",
    "You should turn to the documentation first, but you may google whatever you need, as there are many great PyTorch tutorials online.\n",
    "\n",
    "This notebook will have four parts:\n",
    "\n",
    "* Part 1: Your notebook should contain the boilerplate code. See below.\n",
    "\n",
    "* Part 2: Your notebook should contain a testing loop.\n",
    "\n",
    "* Part 3: Your notebook should contain a visualization of test/training performance over time.\n",
    "\n",
    "The resulting image could, for example, look like this:\n",
    "![](http://liftothers.org/dokuwiki/lib/exe/fetch.php?cache=&w=900&h=608&tok=3092fe&media=cs501r_f2018:lab2.png)\n",
    "\n",
    "* Part 4: Your notebook should contain the completed microtasks and pass all the asserts.\n",
    "\n",
    "See the assigned readings for pointers to documentation on PyTorch.\n",
    "___\n",
    "\n",
    "### Grading standards:\n",
    "Your notebook will be graded on the following:\n",
    "\n",
    "* 40% Successfully followed lab video and typed in code\n",
    "* 20% Modified code to include a test/train split\n",
    "* 20% Modified code to include a visualization of train/test losses\n",
    "* 10% Tidy and legible figures, including labeled axes where appropriate\n",
    "* 10% Correct solutions to the microtasks\n",
    "___\n",
    "\n",
    "### Description\n",
    "Throughout this class, we will be using PyTorch to implement our deep neural networks. \n",
    "PyTorch is a deep learning framework that handles the low-level details of \n",
    "GPU integration and automatic differentiation.\n",
    "\n",
    "The goal of this lab is to help you become familiar with PyTorch. \n",
    "The four parts of the lab are outlined above.\n",
    "\n",
    "For part 1, you should watch the video below, and type in the code as it is explained to you.\n",
    "\n",
    "A more detailed outline of Part 1 is below.\n",
    "\n",
    "For part 2, you must add a validation (or testing) loop using the \n",
    "FashionMNIST dataset with train=False\n",
    "\n",
    "For part 3, you must plot the loss values.\n",
    "\n",
    "For part 4, you must complete the microtasks and pass all asserts.\n",
    "\n",
    "Optional: Demonstrate overfitting on the training data.\n",
    "\n",
    "The easiest way to do this is to limit the size of your training dataset \n",
    "so that it only returns a single batch (i.e. len(dataloader) == batch_size, \n",
    "and train for multiple epochs. For example,\n",
    "I set my batch size to 42, and augmented my dataloader to produce only 42 \n",
    "unique items by overwriting the len function to return 42. \n",
    "In my training loop, I performed a validation every epoch which basically corresponded \n",
    "to a validation every step.\n",
    "\n",
    "In practice, you will normally compute your validation loss every n steps, \n",
    "rather than at the end of every epoch. This is because some epochs can take hours, \n",
    "or even days and you don’t often want to wait that long to see your results.\n",
    "\n",
    "Testing your algorithm by using a single batch and training until overfitting \n",
    "is a great way of making sure that your model and optimizer are working the way they should!\n",
    "\n",
    "___\n",
    "\n",
    "### Part 0\n",
    "Watch Tutorial Video\n",
    "\n",
    "[https://youtu.be/E76hLX9WCLE](https://youtu.be/E76hLX9WCLE)\n",
    "\n",
    "**TODO:**\n",
    "* Watch video\n",
    "\n",
    "**DONE:**\n",
    "\n",
    "___\n",
    "\n",
    "### Part 1\n",
    "Your notebook should contain the boilerplate code. See below.\n",
    "\n",
    "**TODO:**\n",
    "\n",
    "* Replicate boilerplate from the video\n",
    "\n",
    "**DONE:**\n",
    "\n",
    "___\n",
    "\n",
    "### Part 2\n",
    "Your notebook should contain a testing (validation) loop.\n",
    "\n",
    "**TODO:**\n",
    "\n",
    "* Add a testing (validation) loop\n",
    "\n",
    "**DONE:**"
   ]
  },
  {
   "cell_type": "code",
   "execution_count": 15,
   "metadata": {
    "colab": {},
    "colab_type": "code",
    "id": "OU80yuvqVXwk",
    "pycharm": {
     "is_executing": false
    }
   },
   "outputs": [],
   "source": [
    "import torch\n",
    "import torch.nn as nn\n",
    "import torch.nn.functional as F\n",
    "import torch.optim as optim\n",
    "from torch.utils.data import Dataset, DataLoader\n",
    "import numpy as np\n",
    "import matplotlib.pyplot as plt\n",
    "from torchvision import transforms, utils, datasets\n",
    "from tqdm import tqdm\n",
    " \n",
    "assert torch.backends.mps.is_available() # You need to request a GPU from Runtime > Change Runtime Type"
   ]
  },
  {
   "cell_type": "code",
   "execution_count": 16,
   "metadata": {},
   "outputs": [],
   "source": [
    "# Write the boilerplate code from the video here\n",
    "num_epochs = 100\n",
    "device = \"mps\"\n",
    "# Create a dataset class that extends the torch.utils.data Dataset class here\n",
    "class FashionMNISTProcessedDataset(Dataset):\n",
    "    def __init__(self, root, train=True):\n",
    "        self.data = datasets.FashionMNIST(root, train=train, \n",
    "                                            transform=transforms.ToTensor(),\n",
    "                                            download=True)\n",
    "\n",
    "    def __getitem__(self, i):\n",
    "        x, y = self.data[i]\n",
    "        return x, y\n",
    "    \n",
    "    def __len__(self):\n",
    "        return len(self.data)\n",
    "# Extend the torch.Module class to create your own neural network\n",
    "class LinearNetwork(nn.Module):\n",
    "    def __init__(self, dataset):\n",
    "        super(LinearNetwork, self).__init__()\n",
    "        x, y = dataset[0]\n",
    "        c, h, w = x.size()\n",
    "        out_dim = 10\n",
    "\n",
    "        self.net = nn.Sequential(nn.Linear(c*h*w,1000),\n",
    "                                nn.ReLU(),\n",
    "                                nn.Linear(1000,out_dim))\n",
    "\n",
    "    def forward(self, x):\n",
    "        n, c, h ,w = x.size()\n",
    "        flattened = x.view(n,c*h*w)\n",
    "        return self.net(flattened)\n",
    "# Instantiate the train and validation sets\n",
    "train_dataset = FashionMNISTProcessedDataset(\"/tmp/fashionmnist\", train=True)\n",
    "val_dataset = FashionMNISTProcessedDataset(\"/tmp/fashionmnist\", train=False)\n",
    "# Instantiate your data loaders\n",
    "train_loader = DataLoader(train_dataset, batch_size=42, pin_memory=True)\n",
    "validation_loader = DataLoader(val_dataset, batch_size=42)\n",
    "# Instantiate your model and loss and optimizer functions\n",
    "model = LinearNetwork(train_dataset)\n",
    "model = model.to(device)\n",
    "optimizer = optim.SGD(model.parameters(), lr=1e-4)\n",
    "objective = torch.nn.CrossEntropyLoss()\n",
    "# cntr = 0\n",
    "train_losses = []\n",
    "validation_losses = []"
   ]
  },
  {
   "cell_type": "code",
   "execution_count": null,
   "metadata": {},
   "outputs": [],
   "source": []
  },
  {
   "cell_type": "code",
   "execution_count": 17,
   "metadata": {},
   "outputs": [
    {
     "name": "stderr",
     "output_type": "stream",
     "text": [
      "epoch no.:99 batch no.:1428 loss:0.6500083804130554 val_loss:0.6428501605987549:   0%|          | 0/142900 [12:19<?, ?it/s] \n"
     ]
    }
   ],
   "source": [
    "# Run your training / validation loops\n",
    "loop = tqdm(total=len(train_loader) * num_epochs, position=0)\n",
    "for epoch in range(num_epochs):\n",
    "    #train\n",
    "    batch = 0\n",
    "    for x, y_truth in train_loader:\n",
    "        #learn\n",
    "        x, y_truth = x.to(device), y_truth.to(device)\n",
    "\n",
    "        optimizer.zero_grad()\n",
    "\n",
    "        y_hat = model(x)\n",
    "        loss = objective(y_hat, y_truth)\n",
    "\n",
    "        if epoch % 2 == 0 and batch == 0:\n",
    "            validation_loss_list = []\n",
    "            train_losses.append(loss.item())\n",
    "            for val_x, val_y_truth in validation_loader:\n",
    "                val_x, val_y_truth = val_x.to(device), val_y_truth.to(device)\n",
    "                val_y_hat = model(val_x)\n",
    "                validation_loss_list.append(objective(val_y_hat, val_y_truth))\n",
    "            validation_losses.append((sum(validation_loss_list)/float(len(validation_loss_list))).item())\n",
    "\n",
    "\n",
    "        loop.set_description(\"epoch no.:\" + str(epoch) + \" batch no.:\" + str(batch) + \" loss:\" + str(loss.item()) + \" val_loss:\" + str(validation_losses[-1]))\n",
    "\n",
    "        loss.backward() # Computing the gradient\n",
    "        optimizer.step() # Taking the step based on the gradient computed. Optimizer will automatically know the gradient from being \n",
    "        # instantiated from the model.parameters()\n",
    "        batch += 1\n",
    "\n",
    "loop.close()"
   ]
  },
  {
   "cell_type": "code",
   "execution_count": 18,
   "metadata": {},
   "outputs": [
    {
     "data": {
      "text/plain": [
       "Text(0, 0.5, 'loss')"
      ]
     },
     "execution_count": 18,
     "metadata": {},
     "output_type": "execute_result"
    },
    {
     "data": {
      "image/png": "[encoded data removed]",
      "text/plain": [
       "<Figure size 640x480 with 1 Axes>"
      ]
     },
     "metadata": {},
     "output_type": "display_data"
    }
   ],
   "source": [
    "plt.plot(range(len(validation_losses)), validation_losses, label=\"Validation Loss\")\n",
    "plt.plot(range(len(train_losses)), train_losses, label=\"Training Loss\")\n",
    "plt.legend()\n",
    "plt.title(\"Validation and Training loss over iterations\")\n",
    "plt.xlabel(\"Iteration\")\n",
    "plt.ylabel(\"loss\")"
   ]
  },
  {
   "cell_type": "markdown",
   "metadata": {
    "colab_type": "text",
    "id": "0wW4QNYG4LE2"
   },
   "source": [
    "\n",
    "___\n",
    "\n",
    "### Part 4\n",
    "Complete the following microtasks to learn some important PyTorch skills.\n",
    "\n",
    "If you do not know how to complete one of the microtasks, use [PyTorch's documentation](https://pytorch.org/docs/stable/index.html)! PyTorch is very well documented, and you will need to learn how to use the documentation, especially in later labs.\n",
    "\n",
    "**TODO:**\n",
    "* Complete microtasks\n",
    "\n",
    "**DONE:**"
   ]
  },
  {
   "cell_type": "markdown",
   "metadata": {},
   "source": [
    "### Computation Graph Microtasks"
   ]
  },
  {
   "cell_type": "code",
   "execution_count": 19,
   "metadata": {},
   "outputs": [
    {
     "name": "stdout",
     "output_type": "stream",
     "text": [
      "tensor([0.6983, 0.9360, 0.7865, 0.1227, 0.2433, 0.0988, 0.2490, 0.6158, 0.0964,\n",
      "        0.6460])\n"
     ]
    }
   ],
   "source": [
    "# To understand how PyTorch organizes the computation graph, let's walk through \n",
    "# a quick example!\n",
    "\n",
    "# 1. First, construct a tensor 'a' that contains 10 random floats. \n",
    "# This will simulate the output layer of a network. Hint: use `torch.rand`.\n",
    "a = torch.rand(10)\n",
    "print(a)\n",
    "assert a.size() == torch.Size([10])"
   ]
  },
  {
   "cell_type": "code",
   "execution_count": 20,
   "metadata": {},
   "outputs": [
    {
     "name": "stdout",
     "output_type": "stream",
     "text": [
      "Parameter containing:\n",
      "tensor([0.6983, 0.9360, 0.7865, 0.1227, 0.2433, 0.0988, 0.2490, 0.6158, 0.0964,\n",
      "        0.6460], requires_grad=True)\n"
     ]
    }
   ],
   "source": [
    "# 2. Now turn 'a' into an `nn.Parameter` so that it be attached to the computation\n",
    "# graph.\n",
    "a = nn.Parameter(a)\n",
    "print(a)\n",
    "assert type(a) == nn.Parameter\n",
    "\n",
    "# Notice that our original tensor 'a' is nested inside of a Parameter object.\n",
    "# The Parameter object knows that it will need to compute gradients at some point.\n",
    "\n",
    "# No need to do anything here, but this assert should pass.\n",
    "assert a.requires_grad == True"
   ]
  },
  {
   "cell_type": "code",
   "execution_count": 32,
   "metadata": {},
   "outputs": [],
   "source": [
    "a = torch.rand(10, requires_grad=True)\n",
    "assert a.requires_grad == True"
   ]
  },
  {
   "cell_type": "code",
   "execution_count": 33,
   "metadata": {},
   "outputs": [
    {
     "data": {
      "text/plain": [
       "torch.Size([10])"
      ]
     },
     "execution_count": 33,
     "metadata": {},
     "output_type": "execute_result"
    }
   ],
   "source": [
    "a.shape"
   ]
  },
  {
   "cell_type": "code",
   "execution_count": 34,
   "metadata": {},
   "outputs": [
    {
     "data": {
      "text/plain": [
       "torch.Size([1, 10])"
      ]
     },
     "execution_count": 34,
     "metadata": {},
     "output_type": "execute_result"
    }
   ],
   "source": [
    "a.unsqueeze(0).shape"
   ]
  },
  {
   "cell_type": "code",
   "execution_count": 35,
   "metadata": {},
   "outputs": [
    {
     "data": {
      "text/plain": [
       "torch.Size([1])"
      ]
     },
     "execution_count": 35,
     "metadata": {},
     "output_type": "execute_result"
    }
   ],
   "source": [
    "torch.Tensor([7]).long().shape"
   ]
  },
  {
   "cell_type": "code",
   "execution_count": 36,
   "metadata": {},
   "outputs": [
    {
     "data": {
      "text/plain": [
       "tensor([[0.6703, 0.7162, 0.6424, 0.4715, 0.3606, 0.5055, 0.1470, 0.6412, 0.0562,\n",
       "         0.1010]], grad_fn=<UnsqueezeBackward0>)"
      ]
     },
     "execution_count": 36,
     "metadata": {},
     "output_type": "execute_result"
    }
   ],
   "source": [
    "a.unsqueeze(0)"
   ]
  },
  {
   "cell_type": "code",
   "execution_count": 37,
   "metadata": {},
   "outputs": [
    {
     "data": {
      "text/plain": [
       "tensor([0.6703, 0.7162, 0.6424, 0.4715, 0.3606, 0.5055, 0.1470, 0.6412, 0.0562,\n",
       "        0.1010], requires_grad=True)"
      ]
     },
     "execution_count": 37,
     "metadata": {},
     "output_type": "execute_result"
    }
   ],
   "source": [
    "a"
   ]
  },
  {
   "cell_type": "code",
   "execution_count": 38,
   "metadata": {},
   "outputs": [
    {
     "name": "stdout",
     "output_type": "stream",
     "text": [
      "tensor(2.1199, grad_fn=<NllLossBackward0>)\n",
      "tensor([ 0.1236,  0.1294,  0.1202,  0.1013,  0.0907,  0.1048,  0.0732, -0.8800,\n",
      "         0.0669,  0.0699])\n"
     ]
    }
   ],
   "source": [
    "# 3. Let's run 'a' through a loss function. The output of the loss function is\n",
    "# just another tensor, but this tensor remembers what operations produced it.\n",
    "loss_fn = nn.CrossEntropyLoss()\n",
    "loss = loss_fn(a.unsqueeze(0), torch.Tensor([7]).long())\n",
    "print(loss)\n",
    "\n",
    "# Now, instruct the network to do a backward pass, by calling '.backward()' on the \n",
    "# result of the loss function. We should now be able to see the gradients that \n",
    "# were computed for 'a' w.r.t. the loss.\n",
    "loss.backward()\n",
    "assert a.grad is not None\n",
    "print(a.grad)"
   ]
  },
  {
   "cell_type": "code",
   "execution_count": 39,
   "metadata": {},
   "outputs": [
    {
     "name": "stdout",
     "output_type": "stream",
     "text": [
      "tensor([0.6703, 0.7162, 0.6424, 0.4715, 0.3606, 0.5055, 0.1470, 0.6412, 0.0562,\n",
      "        0.1010], requires_grad=True)\n",
      "tensor([0.6703, 0.7162, 0.6424, 0.4715, 0.3606, 0.5055, 0.1470, 0.6412, 0.0562,\n",
      "        0.1010])\n"
     ]
    }
   ],
   "source": [
    "# 4. If we were to use 'a' in another operation, this might affect the computation graph.\n",
    "# To make sure that you are not adversly affecting the computation graph, call\n",
    "# `.detach()` on 'a' and assign the result to a new variable 'b'.\n",
    "b = a.detach()\n",
    "print(a)\n",
    "print(b)\n",
    "assert a.requires_grad == True\n",
    "assert b.requires_grad == False"
   ]
  },
  {
   "cell_type": "code",
   "execution_count": 42,
   "metadata": {},
   "outputs": [
    {
     "data": {
      "text/plain": [
       "tensor([[[0.7477, 0.6901, 0.6797, 0.7869, 0.4320],\n",
       "         [0.3152, 0.0812, 0.9681, 0.2630, 0.6664],\n",
       "         [0.6325, 0.0917, 0.8402, 0.4741, 0.6482],\n",
       "         [0.6456, 0.5363, 0.0111, 0.0054, 0.7873],\n",
       "         [0.5967, 0.4048, 0.6521, 0.0173, 0.4934]],\n",
       "\n",
       "        [[0.2552, 0.7210, 0.6953, 0.0336, 0.5840],\n",
       "         [0.5141, 0.2762, 0.6312, 0.0528, 0.4280],\n",
       "         [0.9719, 0.6000, 0.2383, 0.4075, 0.7798],\n",
       "         [0.0828, 0.0967, 0.2675, 0.6274, 0.9802],\n",
       "         [0.3755, 0.9073, 0.0018, 0.6148, 0.7541]],\n",
       "\n",
       "        [[0.5896, 0.3612, 0.3670, 0.9838, 0.8840],\n",
       "         [0.9742, 0.2036, 0.3500, 0.4356, 0.7438],\n",
       "         [0.7766, 0.4208, 0.3355, 0.3257, 0.1369],\n",
       "         [0.7858, 0.6994, 0.7372, 0.8303, 0.4042],\n",
       "         [0.3991, 0.0998, 0.2193, 0.4887, 0.0430]],\n",
       "\n",
       "        [[0.1104, 0.8002, 0.2609, 0.7160, 0.0607],\n",
       "         [0.3876, 0.9301, 0.7691, 0.6587, 0.9374],\n",
       "         [0.9053, 0.8021, 0.9489, 0.1616, 0.6303],\n",
       "         [0.5990, 0.5750, 0.6353, 0.1685, 0.6608],\n",
       "         [0.7561, 0.3569, 0.5873, 0.2010, 0.2078]],\n",
       "\n",
       "        [[0.1290, 0.6261, 0.7594, 0.4479, 0.2440],\n",
       "         [0.9568, 0.6414, 0.5036, 0.4351, 0.1821],\n",
       "         [0.9682, 0.0285, 0.3642, 0.6026, 0.8355],\n",
       "         [0.6424, 0.7778, 0.5545, 0.1220, 0.9117],\n",
       "         [0.2892, 0.9839, 0.6704, 0.9498, 0.2926]]])"
      ]
     },
     "execution_count": 42,
     "metadata": {},
     "output_type": "execute_result"
    }
   ],
   "source": [
    "c = torch.rand((5,5,5))\n",
    "c"
   ]
  },
  {
   "cell_type": "code",
   "execution_count": 46,
   "metadata": {},
   "outputs": [
    {
     "data": {
      "text/plain": [
       "tensor([[0.7477, 0.3152, 0.6325, 0.6456, 0.5967],\n",
       "        [0.2552, 0.5141, 0.9719, 0.0828, 0.3755],\n",
       "        [0.5896, 0.9742, 0.7766, 0.7858, 0.3991],\n",
       "        [0.1104, 0.3876, 0.9053, 0.5990, 0.7561],\n",
       "        [0.1290, 0.9568, 0.9682, 0.6424, 0.2892]])"
      ]
     },
     "execution_count": 46,
     "metadata": {},
     "output_type": "execute_result"
    }
   ],
   "source": [
    "c[:,:,0]"
   ]
  },
  {
   "cell_type": "code",
   "execution_count": 51,
   "metadata": {},
   "outputs": [],
   "source": [
    "d = torch.tensor([[[2,1,2],[3,1,1],[5,1,1]],[[1,2,3],[4,5,6],[7,8,9]]])"
   ]
  },
  {
   "cell_type": "code",
   "execution_count": 52,
   "metadata": {},
   "outputs": [
    {
     "data": {
      "text/plain": [
       "tensor([[[2, 1, 2],\n",
       "         [3, 1, 1],\n",
       "         [5, 1, 1]],\n",
       "\n",
       "        [[1, 2, 3],\n",
       "         [4, 5, 6],\n",
       "         [7, 8, 9]]])"
      ]
     },
     "execution_count": 52,
     "metadata": {},
     "output_type": "execute_result"
    }
   ],
   "source": [
    "d"
   ]
  },
  {
   "cell_type": "code",
   "execution_count": 64,
   "metadata": {},
   "outputs": [
    {
     "data": {
      "text/plain": [
       "tensor([[1, 2],\n",
       "        [4, 5]])"
      ]
     },
     "execution_count": 64,
     "metadata": {},
     "output_type": "execute_result"
    }
   ],
   "source": [
    "d[1,:2,:2]"
   ]
  },
  {
   "cell_type": "code",
   "execution_count": null,
   "metadata": {},
   "outputs": [],
   "source": []
  }
 ],
 "metadata": {
  "accelerator": "GPU",
  "colab": {
   "collapsed_sections": [],
   "name": "DL_Lab2.ipynb",
   "provenance": []
  },
  "kernelspec": {
   "display_name": "Python 3.8.17 ('torch-gpu')",
   "language": "python",
   "name": "python3"
  },
  "language_info": {
   "codemirror_mode": {
    "name": "ipython",
    "version": 3
   },
   "file_extension": ".py",
   "mimetype": "text/x-python",
   "name": "python",
   "nbconvert_exporter": "python",
   "pygments_lexer": "ipython3",
   "version": "3.8.17"
  },
  "pycharm": {
   "stem_cell": {
    "cell_type": "raw",
    "metadata": {
     "collapsed": false
    },
    "source": []
   }
  },
  "vscode": {
   "interpreter": {
    "hash": "e1cb4ba5f411cfa4a68a7ea6c2f9ba3655e2604bd37447d058a856eda531fd15"
   }
  }
 },
 "nbformat": 4,
 "nbformat_minor": 2
}

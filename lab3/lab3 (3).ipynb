{
 "cells": [
  {
   "cell_type": "markdown",
   "metadata": {},
   "source": [
    "<a href=\"https://colab.research.google.com/github/wingated/cs474_labs_f2019/blob/master/DL_Lab3.ipynb\" target=\"_parent\"><img src=\"https://colab.research.google.com/assets/colab-badge.svg\" alt=\"Open In Colab\"/></a>"
   ]
  },
  {
   "cell_type": "markdown",
   "metadata": {
    "colab_type": "text",
    "id": "view-in-github"
   },
   "source": [
    "# Lab 3: Intro to CNNs and DNNs\n",
    "\n",
    "## Objectives\n",
    "\n",
    "* Build and train a deep conv net\n",
    "* Explore and implement various initialization techniques\n",
    "* Implement a parameterized module in Pytorch\n",
    "* Use a principled loss function\n",
    "\n",
    "## Video Tutorial\n",
    "[https://youtu.be/3TAuTcx-VCc](https://youtu.be/3TAuTcx-VCc)\n",
    "\n",
    "## Deliverable\n",
    "For this lab, you will submit an ipython notebook via learningsuite.\n",
    "This is where you build your first deep neural network!\n",
    "\n",
    "For this lab, we'll be combining several different concepts that we've covered during class,\n",
    "including new layer types, initialization strategies, and an understanding of convolutions.\n",
    "\n",
    "## Grading Standards:\n",
    "* 20% Part 0: Successfully followed lab video and typed in code\n",
    "* 20% Part 1: Re-implement Conv2D and CrossEntropy loss function\n",
    "* 20% Part 2: Implement different initialization strategies\n",
    "* 10% Part 3: Print parameters, plot train/test accuracy\n",
    "* 10% Reach 85% validation accuracy from parts 1-3\n",
    "* 10% Part 4: Convolution parameters quiz\n",
    "* 10% Tidy and legible figures, including labeled axes where appropriate\n",
    "___\n",
    "\n",
    "### Part 0\n",
    "Watch and follow video tutorial:\n",
    "\n",
    "[https://youtu.be/3TAuTcx-VCc](https://youtu.be/3TAuTcx-VCc)\n",
    "\n",
    "**TODO:**\n",
    "\n",
    "* Watch tutorial\n",
    "\n",
    "**DONE:**"
   ]
  },
  {
   "cell_type": "code",
   "execution_count": 3,
   "metadata": {
    "colab": {},
    "colab_type": "code",
    "collapsed": true,
    "id": "wQOefmcZVgTl"
   },
   "outputs": [],
   "source": [
    "import torch\n",
    "import torch.nn as nn\n",
    "import torch.nn.functional as F\n",
    "import torch.optim as optim\n",
    "from torch.utils.data import Dataset, DataLoader\n",
    "import numpy as np\n",
    "import matplotlib.pyplot as plt\n",
    "from torchvision import transforms, utils, datasets\n",
    "from tqdm import tqdm\n",
    "from torch.nn.parameter import Parameter\n",
    "import pdb\n",
    "\n",
    "assert torch.backends.mps.is_available(), \"You need to request a GPU from Runtime > Change Runtime\""
   ]
  },
  {
   "cell_type": "code",
   "execution_count": 5,
   "metadata": {},
   "outputs": [],
   "source": [
    "from torch.nn.parameter import Parameter\n",
    "import pdb"
   ]
  },
  {
   "cell_type": "code",
   "execution_count": 10,
   "metadata": {
    "colab": {},
    "colab_type": "code",
    "collapsed": true,
    "id": "Il_53HLSWPTY"
   },
   "outputs": [],
   "source": [
    "# Use the dataset class you created in lab2\n",
    "class FashionMNISTProcessedDataset(Dataset):\n",
    "    def __init__(self, root, train=True):\n",
    "        self.data = datasets.FashionMNIST(root, train=train, transform=transforms.ToTensor(), download=True)\n",
    "    \n",
    "    def __getitem__(self, i):\n",
    "        x, y = self.data[i]\n",
    "        return x, y\n",
    "\n",
    "    def __len__(self):\n",
    "        return(len(self.data))"
   ]
  },
  {
   "cell_type": "markdown",
   "metadata": {
    "colab_type": "text",
    "id": "QY4owfQwm-Ni"
   },
   "source": [
    "___\n",
    "\n",
    "### Part 1\n",
    "Re-implement a Conv2D module with parameters and a CrossEntropy loss function.\n",
    "\n",
    "**TODO:**\n",
    "\n",
    "* CrossEntropyLoss \n",
    "* Conv2D\n",
    "\n",
    "**DONE:**\n",
    "\n",
    "___\n",
    "\n",
    "### Part 2\n",
    "Implement a few initialization strategies which can include Xe initialization\n",
    "(sometimes called Xavier), Orthogonal initialization, and uniform random.\n",
    "You can specify which strategy you want to use with a parameter. \n",
    "\n",
    "\n",
    "\n",
    "Helpful links include:\n",
    "*  [Orthogonal Initialization](https://hjweide.github.io/orthogonal-initialization-in-convolutional-layers) (or the original paper: http://arxiv.org/abs/1312.6120)\n",
    "*  http://andyljones.tumblr.com/post/110998971763/an-explanation-of-xavier-initialization\n",
    "\n",
    "**TODO:**\n",
    "* Parameterize custom Conv2D for different initilization strategies\n",
    "* Xe\n",
    "* Orthogonal\n",
    "* Uniform\n",
    "\n",
    "**DONE:**\n",
    "\n"
   ]
  },
  {
   "cell_type": "code",
   "execution_count": 87,
   "metadata": {},
   "outputs": [],
   "source": [
    "a = torch.rand(10,10,2)"
   ]
  },
  {
   "cell_type": "code",
   "execution_count": 89,
   "metadata": {},
   "outputs": [
    {
     "data": {
      "text/plain": [
       "torch.float32"
      ]
     },
     "execution_count": 89,
     "metadata": {},
     "output_type": "execute_result"
    }
   ],
   "source": [
    "a.dtype"
   ]
  },
  {
   "cell_type": "code",
   "execution_count": 131,
   "metadata": {
    "colab": {},
    "colab_type": "code",
    "collapsed": true,
    "id": "RkieTbwlYWPS"
   },
   "outputs": [],
   "source": [
    "class CrossEntropyLoss(nn.Module):\n",
    "  pass\n",
    "\n",
    "class Conv2d(nn.Module):\n",
    "  def __init__(self, in_channels, out_channels, kernel_size, stride=1, padding=0, dilation=1, groups=1, bias=True, padding_mode='zeros', device=None, dtype=None):\n",
    "    self.__dict__.update(locals()) # keys are arguments we pass in! that way we can just use a dot for any of the argument inputs when we want to reference them, ie self.in_channels\n",
    "    super(Conv2d, self).__init__()\n",
    "\n",
    "    self.weight = Parameter(torch.Tensor(out_channels,\n",
    "                               in_channels, *kernel_size))\n",
    "    self.bias = Parameter(torch.Tensor(out_channels))\n",
    "\n",
    "    self.weight.data.uniform_(-1,1)\n",
    "    self.bias.data.uniform_(0,0)\n",
    "\n",
    "    self.weight.data = self.weight.data.to(\"mps\")\n",
    "    self.bias.data = self.bias.data.to(\"mps\")\n",
    "\n",
    "  def forward(self, x):\n",
    "    return F.conv2d(x, self.weight, self.bias, self.stride, self.padding, self.dilation, self.groups)\n",
    "\n",
    "  # def extra_repr(self) -> str:\n",
    "  #   return super().extra_repr()"
   ]
  },
  {
   "cell_type": "markdown",
   "metadata": {},
   "source": [
    "Numpy will produce float64 by default, but we need float32, so to get around this, do something like this:\n",
    "\\begin{align*}\n",
    "    \\verb+torch.from_numpy(np.random.rand(10,10).astype(np.float32))+\n",
    "\\end{align*}\n",
    "and this will make sure the datatypes are all the same."
   ]
  },
  {
   "cell_type": "code",
   "execution_count": 132,
   "metadata": {
    "colab": {},
    "colab_type": "code",
    "collapsed": true,
    "id": "d4C-_v9Hm7YE"
   },
   "outputs": [],
   "source": [
    "class ConvNetwork(nn.Module):\n",
    "  def __init__(self, dataset):\n",
    "    super(ConvNetwork, self).__init__()\n",
    "    x, y = dataset[0]\n",
    "    c, h, w = x.size()\n",
    "    output = 10\n",
    "\n",
    "    self.net = nn.Sequential(\n",
    "      Conv2d(c, 10, (3,3), padding=(1,1)),\n",
    "      Conv2d(10, output, (28,28), padding=(0,0)) # 28 x 28 indicates the image size\n",
    "    )\n",
    "\n",
    "  def forward(self, x):\n",
    "    return self.net(x).squeeze(2).squeeze(2)"
   ]
  },
  {
   "cell_type": "code",
   "execution_count": 134,
   "metadata": {
    "colab": {
     "base_uri": "https://localhost:8080/",
     "height": 35
    },
    "colab_type": "code",
    "collapsed": true,
    "id": "jYqywck8Wdm9",
    "outputId": "7c006489-be49-42b7-c3ed-0bf4656bae88",
    "pycharm": {
     "is_executing": false
    }
   },
   "outputs": [],
   "source": [
    "# Initialize device \n",
    "device = \"mps\"\n",
    "# Initialize Datasets\n",
    "train_dataset = FashionMNISTProcessedDataset(\"/tmp/fashionmnist\", train=True)\n",
    "val_dataset = FashionMNISTProcessedDataset(\"tmp/fashionmnist\",train=False)\n",
    "# Initialize DataLoaders\n",
    "train_loader = DataLoader(train_dataset, batch_size=42, pin_memory=True)\n",
    "val_loader = DataLoader(val_dataset, batch_size=42)\n",
    "# Initialize Model\n",
    "model = ConvNetwork(train_dataset)\n",
    "model = model.to(device)\n",
    "# Initialize Objective and Optimizer and other parameters\n",
    "objective = nn.CrossEntropyLoss() #TODO: create Cross entropy loss\n",
    "optimizer = optim.Adam(model.parameters(), lr=1e-4)\n",
    "# Initialize empty train and validation loss lists\n",
    "train_loss = []\n",
    "val_loss = []\n",
    "# Number of epochs to run through\n",
    "num_epochs = 100"
   ]
  },
  {
   "cell_type": "code",
   "execution_count": 135,
   "metadata": {},
   "outputs": [],
   "source": [
    "# model.net[0].weight.data.uniform_(-1,1)\n",
    "# model.net[0].weight.data\n",
    "\n",
    "# o, i, k1, k2 = model.net[0].weight.size()\n",
    "# W = np.random.randn(*model.net[0].weight.data.size())\n",
    "\n",
    "# model.net[0].weight.data = torch.from_numpy(W)"
   ]
  },
  {
   "cell_type": "code",
   "execution_count": 136,
   "metadata": {
    "colab": {
     "base_uri": "https://localhost:8080/",
     "height": 16
    },
    "colab_type": "code",
    "collapsed": true,
    "id": "mTg1jyIsYVZN",
    "outputId": "cfc985dd-006e-4044-dc4b-834a00dcbac1",
    "pycharm": {
     "is_executing": false
    }
   },
   "outputs": [
    {
     "name": "stderr",
     "output_type": "stream",
     "text": [
      "  0%|          | 0/142900 [02:16<?, ?it/s]\n",
      "epoch no.:2 batch no.:428 loss:8.282930374145508 val_loss:4.594259302735828:   0%|          | 0/142900 [00:30<?, ?it/s]  "
     ]
    },
    {
     "ename": "KeyboardInterrupt",
     "evalue": "",
     "output_type": "error",
     "traceback": [
      "\u001b[0;31m---------------------------------------------------------------------------\u001b[0m",
      "\u001b[0;31mKeyboardInterrupt\u001b[0m                         Traceback (most recent call last)",
      "Cell \u001b[0;32mIn[136], line 11\u001b[0m\n\u001b[1;32m      8\u001b[0m optimizer\u001b[38;5;241m.\u001b[39mzero_grad()\n\u001b[1;32m     10\u001b[0m y_pred \u001b[38;5;241m=\u001b[39m model(x)\n\u001b[0;32m---> 11\u001b[0m loss \u001b[38;5;241m=\u001b[39m \u001b[43mobjective\u001b[49m\u001b[43m(\u001b[49m\u001b[43my_pred\u001b[49m\u001b[43m,\u001b[49m\u001b[43m \u001b[49m\u001b[43my_truth\u001b[49m\u001b[43m)\u001b[49m\n\u001b[1;32m     13\u001b[0m \u001b[38;5;28;01mif\u001b[39;00m epoch \u001b[38;5;241m%\u001b[39m \u001b[38;5;241m2\u001b[39m \u001b[38;5;241m==\u001b[39m \u001b[38;5;241m0\u001b[39m \u001b[38;5;129;01mand\u001b[39;00m batch \u001b[38;5;241m==\u001b[39m \u001b[38;5;241m0\u001b[39m:\n\u001b[1;32m     14\u001b[0m     val_loss_list \u001b[38;5;241m=\u001b[39m []\n",
      "File \u001b[0;32m/opt/homebrew/Caskroom/miniforge/base/envs/torch-gpu/lib/python3.8/site-packages/torch/nn/modules/module.py:1505\u001b[0m, in \u001b[0;36mModule._wrapped_call_impl\u001b[0;34m(self, *args, **kwargs)\u001b[0m\n\u001b[1;32m   1503\u001b[0m     \u001b[39mreturn\u001b[39;00m \u001b[39mself\u001b[39m\u001b[39m.\u001b[39m_compiled_call_impl(\u001b[39m*\u001b[39margs, \u001b[39m*\u001b[39m\u001b[39m*\u001b[39mkwargs)  \u001b[39m# type: ignore[misc]\u001b[39;00m\n\u001b[1;32m   1504\u001b[0m \u001b[39melse\u001b[39;00m:\n\u001b[0;32m-> 1505\u001b[0m     \u001b[39mreturn\u001b[39;00m \u001b[39mself\u001b[39;49m\u001b[39m.\u001b[39;49m_call_impl(\u001b[39m*\u001b[39;49margs, \u001b[39m*\u001b[39;49m\u001b[39m*\u001b[39;49mkwargs)\n",
      "File \u001b[0;32m/opt/homebrew/Caskroom/miniforge/base/envs/torch-gpu/lib/python3.8/site-packages/torch/nn/modules/module.py:1514\u001b[0m, in \u001b[0;36mModule._call_impl\u001b[0;34m(self, *args, **kwargs)\u001b[0m\n\u001b[1;32m   1509\u001b[0m \u001b[39m# If we don't have any hooks, we want to skip the rest of the logic in\u001b[39;00m\n\u001b[1;32m   1510\u001b[0m \u001b[39m# this function, and just call forward.\u001b[39;00m\n\u001b[1;32m   1511\u001b[0m \u001b[39mif\u001b[39;00m \u001b[39mnot\u001b[39;00m (\u001b[39mself\u001b[39m\u001b[39m.\u001b[39m_backward_hooks \u001b[39mor\u001b[39;00m \u001b[39mself\u001b[39m\u001b[39m.\u001b[39m_backward_pre_hooks \u001b[39mor\u001b[39;00m \u001b[39mself\u001b[39m\u001b[39m.\u001b[39m_forward_hooks \u001b[39mor\u001b[39;00m \u001b[39mself\u001b[39m\u001b[39m.\u001b[39m_forward_pre_hooks\n\u001b[1;32m   1512\u001b[0m         \u001b[39mor\u001b[39;00m _global_backward_pre_hooks \u001b[39mor\u001b[39;00m _global_backward_hooks\n\u001b[1;32m   1513\u001b[0m         \u001b[39mor\u001b[39;00m _global_forward_hooks \u001b[39mor\u001b[39;00m _global_forward_pre_hooks):\n\u001b[0;32m-> 1514\u001b[0m     \u001b[39mreturn\u001b[39;00m forward_call(\u001b[39m*\u001b[39;49margs, \u001b[39m*\u001b[39;49m\u001b[39m*\u001b[39;49mkwargs)\n\u001b[1;32m   1515\u001b[0m \u001b[39m# Do not call functions when jit is used\u001b[39;00m\n\u001b[1;32m   1516\u001b[0m full_backward_hooks, non_full_backward_hooks \u001b[39m=\u001b[39m [], []\n",
      "File \u001b[0;32m/opt/homebrew/Caskroom/miniforge/base/envs/torch-gpu/lib/python3.8/site-packages/torch/nn/modules/loss.py:1179\u001b[0m, in \u001b[0;36mCrossEntropyLoss.forward\u001b[0;34m(self, input, target)\u001b[0m\n\u001b[1;32m   1178\u001b[0m \u001b[39mdef\u001b[39;00m \u001b[39mforward\u001b[39m(\u001b[39mself\u001b[39m, \u001b[39minput\u001b[39m: Tensor, target: Tensor) \u001b[39m-\u001b[39m\u001b[39m>\u001b[39m Tensor:\n\u001b[0;32m-> 1179\u001b[0m     \u001b[39mreturn\u001b[39;00m F\u001b[39m.\u001b[39;49mcross_entropy(\u001b[39minput\u001b[39;49m, target, weight\u001b[39m=\u001b[39;49m\u001b[39mself\u001b[39;49m\u001b[39m.\u001b[39;49mweight,\n\u001b[1;32m   1180\u001b[0m                            ignore_index\u001b[39m=\u001b[39;49m\u001b[39mself\u001b[39;49m\u001b[39m.\u001b[39;49mignore_index, reduction\u001b[39m=\u001b[39;49m\u001b[39mself\u001b[39;49m\u001b[39m.\u001b[39;49mreduction,\n\u001b[1;32m   1181\u001b[0m                            label_smoothing\u001b[39m=\u001b[39;49m\u001b[39mself\u001b[39;49m\u001b[39m.\u001b[39;49mlabel_smoothing)\n",
      "File \u001b[0;32m/opt/homebrew/Caskroom/miniforge/base/envs/torch-gpu/lib/python3.8/site-packages/torch/nn/functional.py:3061\u001b[0m, in \u001b[0;36mcross_entropy\u001b[0;34m(input, target, weight, size_average, ignore_index, reduce, reduction, label_smoothing)\u001b[0m\n\u001b[1;32m   3059\u001b[0m \u001b[39mif\u001b[39;00m size_average \u001b[39mis\u001b[39;00m \u001b[39mnot\u001b[39;00m \u001b[39mNone\u001b[39;00m \u001b[39mor\u001b[39;00m reduce \u001b[39mis\u001b[39;00m \u001b[39mnot\u001b[39;00m \u001b[39mNone\u001b[39;00m:\n\u001b[1;32m   3060\u001b[0m     reduction \u001b[39m=\u001b[39m _Reduction\u001b[39m.\u001b[39mlegacy_get_string(size_average, reduce)\n\u001b[0;32m-> 3061\u001b[0m \u001b[39mreturn\u001b[39;00m torch\u001b[39m.\u001b[39;49m_C\u001b[39m.\u001b[39;49m_nn\u001b[39m.\u001b[39;49mcross_entropy_loss(\u001b[39minput\u001b[39;49m, target, weight, _Reduction\u001b[39m.\u001b[39;49mget_enum(reduction), ignore_index, label_smoothing)\n",
      "\u001b[0;31mKeyboardInterrupt\u001b[0m: "
     ]
    }
   ],
   "source": [
    "# Run your training and validation loop and collect stats\n",
    "loop = tqdm(total=len(train_loader) * num_epochs, position=0)\n",
    "for epoch in range(num_epochs):\n",
    "    batch = 0\n",
    "    for x, y_truth in train_loader:\n",
    "        x, y_truth = x.to(device), y_truth.to(device)\n",
    "\n",
    "        optimizer.zero_grad()\n",
    "\n",
    "        y_pred = model(x)\n",
    "        loss = objective(y_pred, y_truth)\n",
    "\n",
    "        if epoch % 2 == 0 and batch == 0:\n",
    "            val_loss_list = []\n",
    "            train_loss.append(loss.item())\n",
    "            for val_x, val_y_truth in val_loader:\n",
    "                val_x, val_y_truth = val_x.to(device), val_y_truth.to(device)\n",
    "                val_y_pred = model(val_x)\n",
    "                val_loss_list.append(objective(val_y_pred, val_y_truth).item())\n",
    "            val_loss.append(np.mean(val_loss_list))\n",
    "        \n",
    "        loop.set_description(\"epoch no.:\" + str(epoch) + \" batch no.:\" + str(batch) + \" loss:\" + str(loss.item()) + \" val_loss:\" + str(val_loss[-1]))\n",
    "\n",
    "        loss.backward()\n",
    "        optimizer.step()\n",
    "\n",
    "        batch += 1\n",
    "\n",
    "loop.close()\n"
   ]
  },
  {
   "cell_type": "markdown",
   "metadata": {
    "colab_type": "text",
    "id": "ronkEckHiDaU"
   },
   "source": [
    "\n",
    "___\n",
    "\n",
    "### Part 3\n",
    "Print the number of parameters in your network and plot accuracy of your training and validation \n",
    "set over time. You should experiment with some deep networks and see if you can get a network \n",
    "with close to 1,000,000 parameters.\n",
    "\n",
    "Once you've experimented with multiple network setups and the different initialization strategies, plot the best-performing experiment here. You should be able to exceed 85% accuracy on the validation set.\n",
    "\n",
    "**TODO:**\n",
    "* Experiment with Deep Networks\n",
    "* Plot accuracy of training and validation set over time\n",
    "* Print out number of parameters in the model \n",
    "* Plot experiment results with 85% or better validation accuracy\n",
    "\n",
    "**DONE:**\n"
   ]
  },
  {
   "cell_type": "code",
   "execution_count": 3,
   "metadata": {
    "colab": {
     "base_uri": "https://localhost:8080/",
     "height": 350
    },
    "colab_type": "code",
    "collapsed": true,
    "id": "PaWCKjxvyRSf",
    "outputId": "698e686b-9e1c-4e6e-d4a4-37a29f6f325d",
    "pycharm": {
     "is_executing": false
    }
   },
   "outputs": [],
   "source": [
    "\n",
    "# Go back up and try a few different networks and initialization strategies\n",
    "# Plot loss if you want\n",
    "# Plot accuracy\n",
    "\n"
   ]
  },
  {
   "cell_type": "code",
   "execution_count": 2,
   "metadata": {
    "colab": {
     "base_uri": "https://localhost:8080/",
     "height": 35
    },
    "colab_type": "code",
    "collapsed": true,
    "id": "oijCR-JnyS6V",
    "outputId": "019b290d-7a98-41ac-e6c5-d1df99a7cbf2",
    "pycharm": {
     "is_executing": false
    }
   },
   "outputs": [],
   "source": [
    "# Compute and print the number of parameters in the model\n"
   ]
  },
  {
   "cell_type": "markdown",
   "metadata": {
    "colab_type": "text",
    "id": "7hXGRxUQh9gX"
   },
   "source": [
    "___\n",
    "\n",
    "### Part 4\n",
    "Learn about how convolution layers affect the shape of outputs, and answer the following quiz questions. Include these in a new markdown cell in your jupyter notebook.\n",
    "\n",
    "\n",
    "*Using a Kernel size of 3×3 what should the settings of your 2d convolution be that results in the following mappings (first answer given to you)*\n",
    "\n",
    "* (c=3, h=10, w=10) ⇒ (c=10, h=8, w=8) : (out_channels=10, kernel_size=(3, 3), padding=(0, 0))\n",
    "* (c=3, h=10, w=10) ⇒ (c=22, h=10, w=10) : **Your answer in bold here**\n",
    "* (c=3, h=10, w=10) ⇒ (c=65, h=12, w=12) : **Your answer in bold here**\n",
    "* (c=3, h=10, w=10) ⇒ (c=7, h=20, w=20) : **Your answer in bold here**\n",
    "\n",
    "*Using a Kernel size of 5×5:*)\n",
    "\n",
    "* (c=3, h=10, w=10) ⇒ (c=10, h=8, w=8) : (out_channels=10, kernel_size=(5, 5), padding=(1, 1))\n",
    "* (c=3, h=10, w=10) ⇒ (c=100, h=10, w=10) : **Your answer in bold here**\n",
    "* (c=3, h=10, w=10) ⇒ (c=23, h=12, w=12) : **Your answer in bold here**\n",
    "* (c=3, h=10, w=10) ⇒ (c=5, h=24, w=24) : **Your answer in bold here**\n",
    "\n",
    "*Using Kernel size of 5×3:*\n",
    "\n",
    "* (c=3, h=10, w=10) ⇒ (c=10, h=8, w=8) : **Your answer in bold here**\n",
    "* (c=3, h=10, w=10) ⇒ (c=100, h=10, w=10) : **Your answer in bold here**\n",
    "* (c=3, h=10, w=10) ⇒ (c=23, h=12, w=12) : **Your answer in bold here**\n",
    "* (c=3, h=10, w=10) ⇒ (c=5, h=24, w=24) : **Your answer in bold here**\n",
    "\n",
    "*Determine the kernel that requires the smallest padding size to make the following mappings possible:*\n",
    "\n",
    "* (c=3, h=10, w=10) ⇒ (c=10, h=9, w=7) : **Your answer in bold here**\n",
    "* (c=3, h=10, w=10) ⇒ (c=22, h=10, w=10) : **Your answer in bold here**\n",
    "\n",
    "**TODO:**\n",
    "\n",
    "* Answer all the questions above \n",
    "\n",
    "**DONE:**\n"
   ]
  },
  {
   "cell_type": "code",
   "execution_count": 1,
   "metadata": {
    "colab": {
     "base_uri": "https://localhost:8080/",
     "height": 35
    },
    "colab_type": "code",
    "collapsed": true,
    "id": "XXfG3wClh8an",
    "outputId": "a616216f-6637-495e-c596-4fc989677d80",
    "pycharm": {
     "is_executing": false
    }
   },
   "outputs": [],
   "source": [
    "# Write some test code for checking the answers for these problems (example shown in the video)\n"
   ]
  }
 ],
 "metadata": {
  "accelerator": "GPU",
  "colab": {
   "collapsed_sections": [],
   "include_colab_link": true,
   "name": "DL_Lab3.ipynb",
   "provenance": [],
   "version": "0.3.2"
  },
  "kernelspec": {
   "display_name": "Python 3.8.17 ('torch-gpu')",
   "language": "python",
   "name": "python3"
  },
  "language_info": {
   "codemirror_mode": {
    "name": "ipython",
    "version": 3
   },
   "file_extension": ".py",
   "mimetype": "text/x-python",
   "name": "python",
   "nbconvert_exporter": "python",
   "pygments_lexer": "ipython3",
   "version": "3.8.17"
  },
  "pycharm": {
   "stem_cell": {
    "cell_type": "raw",
    "metadata": {
     "collapsed": false
    },
    "source": []
   }
  },
  "vscode": {
   "interpreter": {
    "hash": "e1cb4ba5f411cfa4a68a7ea6c2f9ba3655e2604bd37447d058a856eda531fd15"
   }
  }
 },
 "nbformat": 4,
 "nbformat_minor": 2
}

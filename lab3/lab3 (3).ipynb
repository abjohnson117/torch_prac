{
 "cells": [
  {
   "cell_type": "markdown",
   "metadata": {},
   "source": [
    "<a href=\"https://colab.research.google.com/github/wingated/cs474_labs_f2019/blob/master/DL_Lab3.ipynb\" target=\"_parent\"><img src=\"https://colab.research.google.com/assets/colab-badge.svg\" alt=\"Open In Colab\"/></a>"
   ]
  },
  {
   "cell_type": "markdown",
   "metadata": {
    "colab_type": "text",
    "id": "view-in-github"
   },
   "source": [
    "# Lab 3: Intro to CNNs and DNNs\n",
    "\n",
    "## Objectives\n",
    "\n",
    "* Build and train a deep conv net\n",
    "* Explore and implement various initialization techniques\n",
    "* Implement a parameterized module in Pytorch\n",
    "* Use a principled loss function\n",
    "\n",
    "## Video Tutorial\n",
    "[https://youtu.be/3TAuTcx-VCc](https://youtu.be/3TAuTcx-VCc)\n",
    "\n",
    "## Deliverable\n",
    "For this lab, you will submit an ipython notebook via learningsuite.\n",
    "This is where you build your first deep neural network!\n",
    "\n",
    "For this lab, we'll be combining several different concepts that we've covered during class,\n",
    "including new layer types, initialization strategies, and an understanding of convolutions.\n",
    "\n",
    "## Grading Standards:\n",
    "* 20% Part 0: Successfully followed lab video and typed in code\n",
    "* 20% Part 1: Re-implement Conv2D and CrossEntropy loss function\n",
    "* 20% Part 2: Implement different initialization strategies\n",
    "* 10% Part 3: Print parameters, plot train/test accuracy\n",
    "* 10% Reach 85% validation accuracy from parts 1-3\n",
    "* 10% Part 4: Convolution parameters quiz\n",
    "* 10% Tidy and legible figures, including labeled axes where appropriate\n",
    "___\n",
    "\n",
    "### Part 0\n",
    "Watch and follow video tutorial:\n",
    "\n",
    "[https://youtu.be/3TAuTcx-VCc](https://youtu.be/3TAuTcx-VCc)\n",
    "\n",
    "**TODO:**\n",
    "\n",
    "* Watch tutorial\n",
    "\n",
    "**DONE:**"
   ]
  },
  {
   "cell_type": "code",
   "execution_count": 2,
   "metadata": {
    "colab": {},
    "colab_type": "code",
    "collapsed": true,
    "id": "wQOefmcZVgTl"
   },
   "outputs": [],
   "source": [
    "import torch\n",
    "import torch.nn as nn\n",
    "import torch.nn.functional as F\n",
    "import torch.optim as optim\n",
    "from torch.utils.data import Dataset, DataLoader\n",
    "import numpy as np\n",
    "import matplotlib.pyplot as plt\n",
    "from torchvision import transforms, utils, datasets\n",
    "from tqdm import tqdm\n",
    "from torch.nn.parameter import Parameter\n",
    "import pdb\n",
    "\n",
    "assert torch.backends.mps.is_available(), \"You need to request a GPU from Runtime > Change Runtime\""
   ]
  },
  {
   "cell_type": "code",
   "execution_count": 3,
   "metadata": {},
   "outputs": [],
   "source": [
    "from torch.nn.parameter import Parameter\n",
    "import pdb"
   ]
  },
  {
   "cell_type": "code",
   "execution_count": 4,
   "metadata": {
    "colab": {},
    "colab_type": "code",
    "collapsed": true,
    "id": "Il_53HLSWPTY"
   },
   "outputs": [],
   "source": [
    "# Use the dataset class you created in lab2\n",
    "class FashionMNISTProcessedDataset(Dataset):\n",
    "    def __init__(self, root, train=True):\n",
    "        self.data = datasets.FashionMNIST(root, train=train, transform=transforms.ToTensor(), download=True)\n",
    "    \n",
    "    def __getitem__(self, i):\n",
    "        x, y = self.data[i]\n",
    "        return x, y\n",
    "\n",
    "    def __len__(self):\n",
    "        return(len(self.data))"
   ]
  },
  {
   "cell_type": "markdown",
   "metadata": {
    "colab_type": "text",
    "id": "QY4owfQwm-Ni"
   },
   "source": [
    "___\n",
    "\n",
    "### Part 1\n",
    "Re-implement a Conv2D module with parameters and a CrossEntropy loss function.\n",
    "\n",
    "**TODO:**\n",
    "\n",
    "* CrossEntropyLoss \n",
    "* Conv2D\n",
    "\n",
    "**DONE:**\n",
    "\n",
    "___\n",
    "\n",
    "### Part 2\n",
    "Implement a few initialization strategies which can include Xe initialization\n",
    "(sometimes called Xavier), Orthogonal initialization, and uniform random.\n",
    "You can specify which strategy you want to use with a parameter. \n",
    "\n",
    "\n",
    "\n",
    "Helpful links include:\n",
    "*  [Orthogonal Initialization](https://hjweide.github.io/orthogonal-initialization-in-convolutional-layers) (or the original paper: http://arxiv.org/abs/1312.6120)\n",
    "*  http://andyljones.tumblr.com/post/110998971763/an-explanation-of-xavier-initialization\n",
    "\n",
    "**TODO:**\n",
    "* Parameterize custom Conv2D for different initilization strategies\n",
    "* Xe\n",
    "* Orthogonal\n",
    "* Uniform\n",
    "\n",
    "**DONE:**\n",
    "\n"
   ]
  },
  {
   "cell_type": "code",
   "execution_count": 5,
   "metadata": {
    "colab": {},
    "colab_type": "code",
    "collapsed": true,
    "id": "RkieTbwlYWPS"
   },
   "outputs": [],
   "source": [
    "class CrossEntropyLoss(nn.Module):\n",
    "  def __init__(self, weight=None, size_average=None, ignore_index=- 100, reduce=None, reduction='mean', label_smoothing=0.0):\n",
    "    self.__dict__.update(locals())\n",
    "    super(CrossEntropyLoss, self).__init__()\n",
    "\n",
    "  def forward(self, y_pred, y_truth):\n",
    "    # # Define lists and sizes\n",
    "    # class_indices = list(range(10))\n",
    "    # batch_size = y_pred.size(0)\n",
    "    # batch_list = list(range(batch_size))\n",
    "    # indicator_list = torch.tensor([0  if x == ignore_index else 1 for x in y_truth])\n",
    "    # indicator_list = indicator_list.to(\"mps\")\n",
    "\n",
    "    # # Actually doing the computation\n",
    "    # exp_y = torch.exp(y_pred)\n",
    "    # y_truth_c = y_truth.to(\"cpu\")\n",
    "    # exp_x_y = exp_y[batch_list, y_truth_c]\n",
    "    # denom = torch.sum(y_pred,1)\n",
    "    # ln = -torch.log(torch.div(exp_x_y,denom)) * indicator_list\n",
    "\n",
    "    cross_sum = torch.logsumexp(y_pred, 1) # Alternatively you could do: cross_sum = torch.log(torch.exp(y_hat).sum(1)), but the TA said it was best to use logsumexp\n",
    "    size_batch, num_classes = y_pred.size()\n",
    "    b = torch.zeros((size_batch, num_classes))\n",
    "    y = y_truth.type(torch.long)\n",
    "    x = torch.arange(size_batch)\n",
    "    b[x, y] = 1\n",
    "    b = b.to(\"mps\")\n",
    "    class_predictions = y_pred * b\n",
    "    sum_predictions = class_predictions.sum(1)\n",
    "\n",
    "    return torch.mean(cross_sum - sum_predictions)\n",
    "\n",
    "\n",
    "    # Configuring the specific reduction argument\n",
    "    # if self.reduction == \"mean\":\n",
    "    #   loss = torch.mean(cross_sum - sum_predictions)\n",
    "    # # if self.reduction == \"sum\":\n",
    "    # #   loss = torch.sum(ln)\n",
    "\n",
    "    # return loss\n",
    "\n",
    "class Conv2d(nn.Module):\n",
    "  def __init__(self, in_channels, out_channels, kernel_size, init, stride=1, padding=0, dilation=1, groups=1, bias=True, padding_mode='zeros', device=None, dtype=None):\n",
    "    self.__dict__ .update(locals())\n",
    "    super(Conv2d, self).__init__()\n",
    "\n",
    "    self.weight = Parameter(torch.Tensor(self.out_channels, \n",
    "                               self.in_channels, \n",
    "                               kernel_size[0], \n",
    "                               kernel_size[1]))\n",
    "    self.bias = Parameter(torch.Tensor(self.out_channels))\n",
    "    self.bias.data.uniform_(0,0)\n",
    "\n",
    "    if init == \"xe\":\n",
    "      var = 1 / (in_channels * kernel_size[0] * kernel_size[1])\n",
    "      d = ((12*var)**(.5))/2\n",
    "      d = (6./((in_channels * kernel_size[0] * kernel_size[1]) + out_channels))\n",
    "      self.weight.data.uniform_(-d,d)\n",
    "    elif init == \"uniform\":\n",
    "      self.weight.data.uniform_(-1,1)\n",
    "    elif init == \"orthogonal\":\n",
    "      X = np.random.random((out_channels, in_channels * kernel_size[0] * kernel_size[1])).astype(np.float32)\n",
    "      U, _, Vt = np.linalg.svd(X, full_matrices=False)\n",
    "      self.weight.data = torch.from_numpy(Vt.reshape((self.out_channels, self.in_channels, kernel_size[0], kernel_size[1])).astype(np.float32))\n",
    "    else:\n",
    "      self.weight.data.uniform_(-1,1)\n",
    "\n",
    "  def forward(self, x):\n",
    "    return F.conv2d(x, self.weight, self.bias, self.stride, self.padding, self.dilation, self.groups)"
   ]
  },
  {
   "cell_type": "markdown",
   "metadata": {},
   "source": [
    "Numpy will produce float64 by default, but we need float32, so to get around this, do something like this:\n",
    "\\begin{align*}\n",
    "    \\verb+torch.from_numpy(np.random.rand(10,10).astype(np.float32))+\n",
    "\\end{align*}\n",
    "and this will make sure the datatypes are all the same."
   ]
  },
  {
   "cell_type": "code",
   "execution_count": 21,
   "metadata": {
    "colab": {},
    "colab_type": "code",
    "collapsed": true,
    "id": "d4C-_v9Hm7YE"
   },
   "outputs": [],
   "source": [
    "class ConvNetwork(nn.Module):\n",
    "  def __init__(self, dataset, init=[\"xe\" for _ in range(4)]):\n",
    "    super(ConvNetwork, self).__init__()\n",
    "    x, y = dataset[0]\n",
    "    c, h, w = x.size()\n",
    "    output = 10\n",
    "\n",
    "    self.net = nn.Sequential(\n",
    "      Conv2d(c, 8, (3,3), padding=(1,1), init=init[0]),\n",
    "      nn.ReLU(),\n",
    "      Conv2d(8, 75, kernel_size=(3,3),padding=(1,1),init=init[1]),\n",
    "      nn.ReLU(),\n",
    "      Conv2d(in_channels=75,out_channels=125,kernel_size=(3,3),padding=(1,1),init=init[2]),\n",
    "      nn.ReLU(),\n",
    "      Conv2d(125, output, (28,28), padding=(0,0), init=init[3]) # 28 x 28 indicates the image size\n",
    "    )\n",
    "\n",
    "  def forward(self, x):\n",
    "    return self.net(x).squeeze(2).squeeze(2)"
   ]
  },
  {
   "cell_type": "code",
   "execution_count": 22,
   "metadata": {},
   "outputs": [
    {
     "data": {
      "text/plain": [
       "torch.Size([1, 28, 28])"
      ]
     },
     "execution_count": 22,
     "metadata": {},
     "output_type": "execute_result"
    }
   ],
   "source": [
    "x, y = train_dataset[0]\n",
    "x.size()"
   ]
  },
  {
   "cell_type": "code",
   "execution_count": 45,
   "metadata": {
    "colab": {
     "base_uri": "https://localhost:8080/",
     "height": 35
    },
    "colab_type": "code",
    "collapsed": true,
    "id": "jYqywck8Wdm9",
    "outputId": "7c006489-be49-42b7-c3ed-0bf4656bae88",
    "pycharm": {
     "is_executing": false
    }
   },
   "outputs": [],
   "source": [
    "# Initialize device \n",
    "device = \"mps\"\n",
    "# Initialize Datasets\n",
    "train_dataset = FashionMNISTProcessedDataset(\"/tmp/fashionmnist\", train=True)\n",
    "val_dataset = FashionMNISTProcessedDataset(\"tmp/fashionmnist\",train=False)\n",
    "# Initialize DataLoaders\n",
    "train_loader = DataLoader(train_dataset, batch_size=42, pin_memory=True)\n",
    "val_loader = DataLoader(val_dataset, batch_size=42)\n",
    "# Initialize Model\n",
    "model = ConvNetwork(train_dataset,[\"orthogonal\",\"xe\",\"uniform\",\"xe\"])\n",
    "model = model.to(device)\n",
    "# Initialize Objective and Optimizer and other parameters\n",
    "objective = nn.CrossEntropyLoss() #TODO: create Cross entropy loss\n",
    "optimizer = optim.Adam(model.parameters(), lr=1e-4)\n",
    "# Initialize empty train and validation loss lists\n",
    "train_loss = []\n",
    "val_loss = []\n",
    "train_acc_mean = []\n",
    "val_acc_mean = []\n",
    "# Number of epochs to run through\n",
    "num_epochs = 1"
   ]
  },
  {
   "cell_type": "code",
   "execution_count": 29,
   "metadata": {},
   "outputs": [],
   "source": [
    "x_test_list = []\n",
    "y_test_list = []\n",
    "for x_test, y_test in train_loader:\n",
    "    x_test_list.append(x_test)\n",
    "    y_test_list.append(y_test)"
   ]
  },
  {
   "cell_type": "code",
   "execution_count": 30,
   "metadata": {},
   "outputs": [
    {
     "data": {
      "text/plain": [
       "torch.Size([42, 1, 28, 28])"
      ]
     },
     "execution_count": 30,
     "metadata": {},
     "output_type": "execute_result"
    }
   ],
   "source": [
    "x_test_list[0].size()"
   ]
  },
  {
   "cell_type": "code",
   "execution_count": 31,
   "metadata": {
    "colab": {
     "base_uri": "https://localhost:8080/",
     "height": 16
    },
    "colab_type": "code",
    "collapsed": true,
    "id": "mTg1jyIsYVZN",
    "outputId": "cfc985dd-006e-4044-dc4b-834a00dcbac1",
    "pycharm": {
     "is_executing": false
    }
   },
   "outputs": [],
   "source": [
    "# Run your training and validation loop and collect stats\n",
    "def train():\n",
    "    loop = tqdm(total=len(train_loader) * num_epochs, position=0)\n",
    "    for epoch in range(num_epochs):\n",
    "        batch = 0\n",
    "        for x, y_truth in train_loader:\n",
    "            x, y_truth = x.to(device, non_blocking=True), y_truth.to(device, non_blocking=True)\n",
    "\n",
    "            optimizer.zero_grad()\n",
    "\n",
    "            y_pred = model(x)\n",
    "            loss = objective(y_pred, y_truth)\n",
    "            \n",
    "            val_loss_list = []\n",
    "\n",
    "            if batch % 500 == 0:\n",
    "                total_val_acc = []\n",
    "                train_loss.append(loss.item())\n",
    "\n",
    "                total_train_acc = []\n",
    "                train_acc = torch.softmax(y_pred, dim=1).argmax(dim=1)\n",
    "                total_train_acc.append(((train_acc == y_truth).float().mean()).item())\n",
    "                train_acc_mean.append(np.mean(total_train_acc))\n",
    "\n",
    "                for batch, (val_x, val_y_truth) in enumerate(val_loader):\n",
    "                    val_x, val_y_truth = val_x.to(device, non_blocking=True), val_y_truth.to(device, non_blocking=True)\n",
    "                    val_y_pred = model(val_x)\n",
    "                    val_acc = torch.softmax(val_y_pred, dim=1).argmax(dim=1)\n",
    "                    total_val_acc.append(((val_acc == val_y_truth).float().mean()).item())\n",
    "                    val_loss_list.append(objective(val_y_pred,val_y_truth).item())\n",
    "                \n",
    "                val_acc_mean.append(np.mean(total_val_acc))\n",
    "                val_loss.append((sum(val_loss_list)/float(len(val_loss_list))))\n",
    "            \n",
    "            # loop.set_description(\"epoch no.:\" + str(epoch) + \" batch no.:\" + str(batch) + \" loss:\" + str(loss.item()) + \" val_loss:\" + str(val_loss[-1]))\n",
    "            loop.set_description(\"batch:\" + str(batch) + \" loss:\" + str(loss.item()) + \" val_loss:\" + str(val_loss[-1]) + \" epoch\" + str(epoch))\n",
    "\n",
    "            loss.backward()\n",
    "            optimizer.step()\n",
    "\n",
    "            batch += 1\n",
    "\n",
    "    loop.close()\n",
    "\n",
    "    return train_loss, val_loss, train_acc_mean, val_acc_mean"
   ]
  },
  {
   "cell_type": "code",
   "execution_count": 33,
   "metadata": {},
   "outputs": [],
   "source": [
    "train_bool = True\n",
    "if train_bool:\n",
    "    train_loss, val_loss, train_acc_mean, val_acc_mean = train()"
   ]
  },
  {
   "cell_type": "markdown",
   "metadata": {
    "colab_type": "text",
    "id": "ronkEckHiDaU"
   },
   "source": [
    "\n",
    "___\n",
    "\n",
    "### Part 3\n",
    "Print the number of parameters in your network and plot accuracy of your training and validation \n",
    "set over time. You should experiment with some deep networks and see if you can get a network \n",
    "with close to 1,000,000 parameters.\n",
    "\n",
    "Once you've experimented with multiple network setups and the different initialization strategies, plot the best-performing experiment here. You should be able to exceed 85% accuracy on the validation set.\n",
    "\n",
    "**TODO:**\n",
    "* Experiment with Deep Networks\n",
    "* Plot accuracy of training and validation set over time\n",
    "* Print out number of parameters in the model \n",
    "* Plot experiment results with 85% or better validation accuracy\n",
    "\n",
    "**DONE:**\n"
   ]
  },
  {
   "cell_type": "code",
   "execution_count": 85,
   "metadata": {
    "colab": {
     "base_uri": "https://localhost:8080/",
     "height": 350
    },
    "colab_type": "code",
    "collapsed": true,
    "id": "PaWCKjxvyRSf",
    "outputId": "698e686b-9e1c-4e6e-d4a4-37a29f6f325d",
    "pycharm": {
     "is_executing": false
    }
   },
   "outputs": [
    {
     "data": {
      "image/png": "[encoded data removed]",
      "text/plain": [
       "<Figure size 640x480 with 1 Axes>"
      ]
     },
     "metadata": {},
     "output_type": "display_data"
    },
    {
     "data": {
      "image/png": "[encoded data removed]",
      "text/plain": [
       "<Figure size 640x480 with 1 Axes>"
      ]
     },
     "metadata": {},
     "output_type": "display_data"
    }
   ],
   "source": [
    "\n",
    "# Go back up and try a few different networks and initialization strategies\n",
    "# Plot loss if you want\n",
    "# Plot accuracy\n",
    "def acc_plotter(train_acc, val_acc):\n",
    "    plt.plot(np.arange(len(train_acc)),train_acc,label=\"train acc\")\n",
    "    plt.plot(np.arange(len(val_acc)),val_acc,label=\"val acc\")\n",
    "    plt.title(\"Train vs Validation Accuracy\")\n",
    "    plt.xlabel(\"Epoch\")\n",
    "    plt.ylabel(\"Accuracy\")\n",
    "    plt.legend()\n",
    "    plt.show()\n",
    "\n",
    "def loss_plotter(train_loss, val_loss):\n",
    "    plt.plot(np.arange(len(train_loss)),train_loss,label=\"train loss\")\n",
    "    plt.plot(np.arange(len(val_loss)),val_loss,label=\"val loss\")\n",
    "    plt.title(\"Train vs Validation Loss\")\n",
    "    plt.xlabel(\"Epoch\")\n",
    "    plt.ylabel(\"Loss\")\n",
    "    plt.legend()\n",
    "    plt.show()\n",
    "acc_plotter(train_acc_mean,val_acc_mean)\n",
    "loss_plotter(train_loss,val_loss)\n"
   ]
  },
  {
   "cell_type": "code",
   "execution_count": 2,
   "metadata": {
    "colab": {
     "base_uri": "https://localhost:8080/",
     "height": 35
    },
    "colab_type": "code",
    "collapsed": true,
    "id": "oijCR-JnyS6V",
    "outputId": "019b290d-7a98-41ac-e6c5-d1df99a7cbf2",
    "pycharm": {
     "is_executing": false
    }
   },
   "outputs": [],
   "source": [
    "# Compute and print the number of parameters in the model\n"
   ]
  },
  {
   "cell_type": "markdown",
   "metadata": {
    "colab_type": "text",
    "id": "7hXGRxUQh9gX"
   },
   "source": [
    "___\n",
    "\n",
    "### Part 4\n",
    "Learn about how convolution layers affect the shape of outputs, and answer the following quiz questions. Include these in a new markdown cell in your jupyter notebook.\n",
    "\n",
    "\n",
    "*Using a Kernel size of 3×3 what should the settings of your 2d convolution be that results in the following mappings (first answer given to you)*\n",
    "\n",
    "* (c=3, h=10, w=10) ⇒ (c=10, h=8, w=8) : (out_channels=10, kernel_size=(3, 3), padding=(0, 0))\n",
    "* (c=3, h=10, w=10) ⇒ (c=22, h=10, w=10) : **(out_channels=22, kernel_size=(3, 3), padding=(1, 1))**\n",
    "* (c=3, h=10, w=10) ⇒ (c=65, h=12, w=12) : **Your answer in bold here**\n",
    "* (c=3, h=10, w=10) ⇒ (c=7, h=20, w=20) : **Your answer in bold here**\n",
    "\n",
    "*Using a Kernel size of 5×5:*)\n",
    "\n",
    "* (c=3, h=10, w=10) ⇒ (c=10, h=8, w=8) : (out_channels=10, kernel_size=(5, 5), padding=(1, 1))\n",
    "* (c=3, h=10, w=10) ⇒ (c=100, h=10, w=10) : **Your answer in bold here**\n",
    "* (c=3, h=10, w=10) ⇒ (c=23, h=12, w=12) : **Your answer in bold here**\n",
    "* (c=3, h=10, w=10) ⇒ (c=5, h=24, w=24) : **Your answer in bold here**\n",
    "\n",
    "*Using Kernel size of 5×3:*\n",
    "\n",
    "* (c=3, h=10, w=10) ⇒ (c=10, h=8, w=8) : **Your answer in bold here**\n",
    "* (c=3, h=10, w=10) ⇒ (c=100, h=10, w=10) : **Your answer in bold here**\n",
    "* (c=3, h=10, w=10) ⇒ (c=23, h=12, w=12) : **Your answer in bold here**\n",
    "* (c=3, h=10, w=10) ⇒ (c=5, h=24, w=24) : **Your answer in bold here**\n",
    "\n",
    "*Determine the kernel that requires the smallest padding size to make the following mappings possible:*\n",
    "\n",
    "* (c=3, h=10, w=10) ⇒ (c=10, h=9, w=7) : **Your answer in bold here**\n",
    "* (c=3, h=10, w=10) ⇒ (c=22, h=10, w=10) : **Your answer in bold here**\n",
    "\n",
    "**TODO:**\n",
    "\n",
    "* Answer all the questions above \n",
    "\n",
    "**DONE:**\n"
   ]
  },
  {
   "cell_type": "code",
   "execution_count": 1,
   "metadata": {
    "colab": {
     "base_uri": "https://localhost:8080/",
     "height": 35
    },
    "colab_type": "code",
    "collapsed": true,
    "id": "XXfG3wClh8an",
    "outputId": "a616216f-6637-495e-c596-4fc989677d80",
    "pycharm": {
     "is_executing": false
    }
   },
   "outputs": [],
   "source": [
    "# Write some test code for checking the answers for these problems (example shown in the video)\n"
   ]
  },
  {
   "cell_type": "code",
   "execution_count": 41,
   "metadata": {},
   "outputs": [],
   "source": [
    "class ImgClassifier(nn.Module):\n",
    "    def __init__(self, dataset):\n",
    "        super(ImgClassifier,self).__init__()\n",
    "        x, y = dataset[0]    \n",
    "        c, h, w = x.size()\n",
    "        output = 10\n",
    "\n",
    "        self.net = nn.Sequential(\n",
    "            nn.Conv2d(in_channels=c,out_channels=10,kernel_size=(3,3),padding=1),\n",
    "            nn.ReLU(),\n",
    "            nn.Conv2d(10,64,kernel_size=(3,3),padding=1),\n",
    "            nn.ReLU(),\n",
    "            nn.Conv2d(64,100,kernel_size=(3,3),padding=1),\n",
    "            nn.ReLU(),\n",
    "            nn.Conv2d(100,output,kernel_size=(h,w),padding=0)\n",
    "        )\n",
    "\n",
    "    def forward(self,x):\n",
    "        return self.net(x).squeeze(2).squeeze(2)"
   ]
  },
  {
   "cell_type": "code",
   "execution_count": 46,
   "metadata": {},
   "outputs": [],
   "source": [
    "lr = 1e-4\n",
    "model = ImgClassifier(train_dataset)\n",
    "model = model.to(device)\n",
    "optimizer = optim.Adam(model.parameters(),lr=lr)"
   ]
  },
  {
   "cell_type": "code",
   "execution_count": 48,
   "metadata": {},
   "outputs": [],
   "source": [
    "# train_loss, val_loss, train_acc, val_acc = train()\n",
    "# acc_plotter(train_acc,val_acc)\n",
    "# loss_plotter(train_loss,val_loss)"
   ]
  },
  {
   "cell_type": "code",
   "execution_count": null,
   "metadata": {},
   "outputs": [],
   "source": []
  }
 ],
 "metadata": {
  "accelerator": "GPU",
  "colab": {
   "collapsed_sections": [],
   "include_colab_link": true,
   "name": "DL_Lab3.ipynb",
   "provenance": [],
   "version": "0.3.2"
  },
  "kernelspec": {
   "display_name": "Python 3.8.17 ('torch-gpu')",
   "language": "python",
   "name": "python3"
  },
  "language_info": {
   "codemirror_mode": {
    "name": "ipython",
    "version": 3
   },
   "file_extension": ".py",
   "mimetype": "text/x-python",
   "name": "python",
   "nbconvert_exporter": "python",
   "pygments_lexer": "ipython3",
   "version": "3.8.17"
  },
  "pycharm": {
   "stem_cell": {
    "cell_type": "raw",
    "metadata": {
     "collapsed": false
    },
    "source": []
   }
  },
  "vscode": {
   "interpreter": {
    "hash": "e1cb4ba5f411cfa4a68a7ea6c2f9ba3655e2604bd37447d058a856eda531fd15"
   }
  }
 },
 "nbformat": 4,
 "nbformat_minor": 2
}
